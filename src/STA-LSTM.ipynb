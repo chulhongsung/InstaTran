{
 "cells": [
  {
   "cell_type": "code",
   "execution_count": null,
   "metadata": {},
   "outputs": [],
   "source": [
    "import torch\n",
    "import torch.nn as nn\n",
    "from torch.nn.utils import weight_norm\n",
    "import torch.nn.functional as F\n",
    "import torch.optim as optim\n",
    "from torch.utils.data import DataLoader, TensorDataset #IterableDataset\n",
    "import sys\n",
    "import os\n",
    "from tqdm import tqdm\n",
    "\n",
    "import sys\n",
    "import os\n",
    "\n",
    "os.chdir(os.path.abspath(''))\n",
    "sys.path.append(os.path.abspath(os.path.abspath('')))\n",
    "sys.path.append(os.path.abspath(os.path.abspath('') + '/src'))\n",
    "\n",
    "from utils import *\n",
    "from models import *\n",
    "\n",
    "import pandas as pd\n",
    "import numpy as np"
   ]
  },
  {
   "cell_type": "code",
   "execution_count": null,
   "metadata": {},
   "outputs": [],
   "source": [
    "df_train_total = pd.read_csv(\"../data/df_train_total.csv\")\n",
    "df_test_total = pd.read_csv(\"../data/df_test_total.csv\")\n",
    "df_merged = pd.read_csv(\"../data/df_merged.csv\")"
   ]
  },
  {
   "cell_type": "code",
   "execution_count": null,
   "metadata": {},
   "outputs": [],
   "source": [
    "def generate_ts_data(df, label_df, input_seq_len=48, tau=12):\n",
    "    conti_input_list = []\n",
    "    cate_input_list = []\n",
    "    future_input_list = []\n",
    "    label_list = []\n",
    "    col_labels =  ['wl_1018680'] # ['wl_1018662', 'wl_1018680', 'wl_1018683', 'wl_1019630']\n",
    "    \n",
    "    for i in df['year'].unique():\n",
    "        tmp_df = np.array(df.loc[df['year'] == i, :])\n",
    "        tmp_label_df = np.array(label_df.loc[label_df['year'] == i, col_labels])\n",
    "        n = tmp_df.shape[0] - input_seq_len - tau \n",
    "        \n",
    "        tmp_conti_input = tmp_df[:, 4:] # (4416, 16)\n",
    "        tmp_cate_input = tmp_df[:, 1:4] # (4416, 3)\n",
    "        \n",
    "        conti_input = np.zeros((n, input_seq_len, tmp_conti_input.shape[1]), dtype=np.float32)\n",
    "        cate_input = np.zeros((n, input_seq_len, tmp_cate_input.shape[1]), dtype=np.float32)\n",
    "        future_input = np.zeros((n, tau, tmp_cate_input.shape[1]), dtype=np.float32)\n",
    "        label = np.zeros((n, tau, len(col_labels)))\n",
    "    \n",
    "        for j in range(n):\n",
    "            conti_input[j, :, :] = tmp_conti_input[j:(j+input_seq_len), :]\n",
    "            cate_input[j, :, :] = tmp_cate_input[j:(j+input_seq_len), :]\n",
    "            future_input[j, :, :] = tmp_cate_input[(j+input_seq_len):(j+input_seq_len+tau), :]\n",
    "            label[j, :, :] = tmp_label_df[(j+input_seq_len):(j+input_seq_len+tau), :]/1000\n",
    "\n",
    "        conti_input_list.append(conti_input)\n",
    "        cate_input_list.append(cate_input)\n",
    "        future_input_list.append(future_input)\n",
    "        label_list.append(label)\n",
    "    \n",
    "    total_conti_input = np.concatenate(conti_input_list, axis=0)\n",
    "    total_cate_input = np.concatenate(cate_input_list, axis=0)\n",
    "    total_future_input = np.concatenate(future_input_list, axis=0)\n",
    "    total_label = np.concatenate(label_list, axis=0)\n",
    "    \n",
    "    return total_conti_input, total_cate_input, total_future_input, total_label"
   ]
  },
  {
   "cell_type": "code",
   "execution_count": null,
   "metadata": {},
   "outputs": [],
   "source": [
    "def generate_eval_ts(df, label_df, input_seq_len=48, tau=12):    \n",
    "    col_labels =  ['wl_1018680'] # ['wl_1018662', 'wl_1018680', 'wl_1018683', 'wl_1019630']\n",
    "    \n",
    "    tmp_df = np.array(df.loc[df['year'] == 2021, :])\n",
    "    tmp_label_df = np.array(label_df.loc[label_df['year'] == 2021, col_labels])\n",
    "    \n",
    "    n = tmp_df.shape[0] - input_seq_len - tau \n",
    "    \n",
    "    tmp_conti_input = tmp_df[:, 4:] # (4416, 16)\n",
    "    conti_input = np.zeros((n, input_seq_len, tmp_conti_input.shape[1]), dtype=np.float32)\n",
    "    label = np.zeros((n, tau, len(col_labels)))\n",
    "\n",
    "    past_input = np.zeros((n, input_seq_len, len(col_labels)), dtype=np.float32)\n",
    "    label = np.zeros((n, tau, len(col_labels)))\n",
    "\n",
    "    for j in range(n):\n",
    "        past_input[j, :, :] = tmp_label_df[j:(j+input_seq_len), :]/1000\n",
    "        conti_input[j, :, :] = tmp_conti_input[j:(j+input_seq_len), :]\n",
    "        label[j, :, :] = tmp_label_df[(j+input_seq_len):(j+input_seq_len+tau), :]/1000\n",
    "\n",
    "    return conti_input, label, past_input"
   ]
  },
  {
   "cell_type": "code",
   "execution_count": null,
   "metadata": {},
   "outputs": [],
   "source": [
    "ding = STALSTM(48, 16, 12, 5)\n",
    "device = torch.device(\"cuda:0\" if torch.cuda.is_available() else \"cpu\")\n",
    "ding.to(device)\n",
    "optimizer = optim.Adam(ding.parameters(), lr=0.001)"
   ]
  },
  {
   "cell_type": "code",
   "execution_count": null,
   "metadata": {},
   "outputs": [],
   "source": [
    "class QuantileRisk(nn.Module):\n",
    "    def __init__(self, tau, quantile, num_targets, device):\n",
    "        super(QuantileRisk, self).__init__()\n",
    "        self.quantile = quantile\n",
    "        self.device = device\n",
    "        self.q_arr = torch.tensor(self.quantile).float().unsqueeze(0).unsqueeze(-1).repeat(1, 1, tau).unsqueeze(1).repeat(1, num_targets, 1, 1).to(self.device)\n",
    "    \n",
    "    def forward(self, true, pred):\n",
    "        true_rep = true.unsqueeze(-1).repeat(1, 1, 1, len(self.quantile)).permute(0, 2, 3, 1).to(self.device)\n",
    "        pred = pred.permute(0, 2, 3, 1)\n",
    "\n",
    "        ql = torch.maximum(self.q_arr * (true_rep - pred), (1-self.q_arr)*(pred - true_rep))\n",
    "        \n",
    "        return ql.mean()\n",
    "\n",
    "def train(model, loader, criterion, optimizer, device):\n",
    "    \n",
    "    model.train()\n",
    "    \n",
    "    total_loss = []\n",
    "    \n",
    "    for batch in loader:\n",
    "        conti_input, true_y = batch \n",
    "        \n",
    "        conti_input = conti_input.to(device)\n",
    "        true_y = true_y.to(device)\n",
    "        \n",
    "        pred, _, _ = model(conti_input)\n",
    "        \n",
    "        loss = criterion(true_y, pred)\n",
    "        \n",
    "        optimizer.zero_grad()\n",
    "        \n",
    "        loss.backward()\n",
    "        \n",
    "        optimizer.step()\n",
    "        \n",
    "        total_loss.append(loss)\n",
    "        \n",
    "    return sum(total_loss)/len(total_loss)\n",
    "\n",
    "criterion = QuantileRisk(12, [0.1, 0.3, 0.5, 0.7, 0.9], 1, device)"
   ]
  },
  {
   "cell_type": "code",
   "execution_count": null,
   "metadata": {},
   "outputs": [],
   "source": [
    "train_conti_input, _, _, train_label = generate_ts_data(df_train_total, df_merged)\n",
    "train_dataset = TensorDataset(torch.FloatTensor(train_conti_input), torch.FloatTensor(train_label))\n",
    "train_loader = DataLoader(train_dataset, shuffle=True, batch_size=512)"
   ]
  },
  {
   "cell_type": "code",
   "execution_count": null,
   "metadata": {},
   "outputs": [],
   "source": [
    "pbar = tqdm(range(100))\n",
    "\n",
    "for epoch in pbar:        \n",
    "    train_loss = train(ding, train_loader, criterion, optimizer, device)\n",
    "    pbar.set_description(\"Train Loss: {:.4f}\".format(train_loss))\n",
    "    \n",
    "# torch.save(ding.state_dict(), '../assets/STALSTM.pth')"
   ]
  }
 ],
 "metadata": {
  "kernelspec": {
   "display_name": "ts",
   "language": "python",
   "name": "python3"
  },
  "language_info": {
   "codemirror_mode": {
    "name": "ipython",
    "version": 3
   },
   "file_extension": ".py",
   "mimetype": "text/x-python",
   "name": "python",
   "nbconvert_exporter": "python",
   "pygments_lexer": "ipython3",
   "version": "3.9.16"
  },
  "orig_nbformat": 4
 },
 "nbformat": 4,
 "nbformat_minor": 2
}
